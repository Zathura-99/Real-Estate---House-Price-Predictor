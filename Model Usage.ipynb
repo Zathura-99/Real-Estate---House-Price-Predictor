{
 "cells": [
  {
   "cell_type": "markdown",
   "id": "9998e04e-5eb6-4a6a-a111-273059756a27",
   "metadata": {},
   "source": [
    "## Using the model"
   ]
  },
  {
   "cell_type": "code",
   "execution_count": 1,
   "id": "4a1371b9-d2cb-4316-a0b9-39768410c6d7",
   "metadata": {},
   "outputs": [],
   "source": [
    "from joblib import load\n",
    "model = load('Estates.joblib')"
   ]
  },
  {
   "cell_type": "code",
   "execution_count": 2,
   "id": "52cfca70-b309-452f-9331-7163d7c703e7",
   "metadata": {},
   "outputs": [],
   "source": [
    "import numpy as np\n",
    "features = np.array([-0.43942006,  3.12628155, -1.12165014, -0.27288841, -1.42262747,\n",
    "       -0.23979304, -1.31238772,  2.61111401, -1.0016859 , -0.5778192 ,\n",
    "       -0.97491834,  0.41164221, -0.86091034])"
   ]
  },
  {
   "cell_type": "code",
   "execution_count": 3,
   "id": "c6c128f3-6faa-4ead-89b5-661572aa1f12",
   "metadata": {},
   "outputs": [
    {
     "data": {
      "text/plain": [
       "array([22.253])"
      ]
     },
     "execution_count": 3,
     "metadata": {},
     "output_type": "execute_result"
    }
   ],
   "source": [
    "model.predict([features])"
   ]
  }
 ],
 "metadata": {
  "kernelspec": {
   "display_name": "Python 3 (ipykernel)",
   "language": "python",
   "name": "python3"
  },
  "language_info": {
   "codemirror_mode": {
    "name": "ipython",
    "version": 3
   },
   "file_extension": ".py",
   "mimetype": "text/x-python",
   "name": "python",
   "nbconvert_exporter": "python",
   "pygments_lexer": "ipython3",
   "version": "3.12.3"
  }
 },
 "nbformat": 4,
 "nbformat_minor": 5
}
